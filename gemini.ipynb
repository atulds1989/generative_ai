{
 "cells": [
  {
   "cell_type": "code",
   "execution_count": 12,
   "id": "c70de1f8-9900-42ac-b769-b2ab71e4c3e1",
   "metadata": {},
   "outputs": [
    {
     "name": "stderr",
     "output_type": "stream",
     "text": [
      "WARNING: Ignoring invalid distribution -rotobuf (c:\\users\\hp\\appdata\\local\\programs\\python\\python39\\lib\\site-packages)\n",
      "WARNING: Ignoring invalid distribution -rotobuf (c:\\users\\hp\\appdata\\local\\programs\\python\\python39\\lib\\site-packages)\n"
     ]
    }
   ],
   "source": [
    "!pip install -q -U google-generativeai"
   ]
  },
  {
   "cell_type": "code",
   "execution_count": 122,
   "id": "bf1e2e76-10e8-41c3-8b53-0556b873de34",
   "metadata": {},
   "outputs": [
    {
     "data": {
      "text/plain": [
       "'3.9.6 (tags/v3.9.6:db3ff76, Jun 28 2021, 15:26:21) [MSC v.1929 64 bit (AMD64)]'"
      ]
     },
     "execution_count": 122,
     "metadata": {},
     "output_type": "execute_result"
    }
   ],
   "source": [
    "import sys\n",
    "sys.version"
   ]
  },
  {
   "cell_type": "code",
   "execution_count": 11,
   "id": "b33f232d-f085-4c8b-9923-302f85abcd41",
   "metadata": {},
   "outputs": [
    {
     "name": "stdout",
     "output_type": "stream",
     "text": [
      "Requirement already satisfied: pip in c:\\users\\hp\\appdata\\local\\programs\\python\\python39\\lib\\site-packages (21.1.3)\n",
      "Collecting pip\n",
      "  Using cached pip-23.3.2-py3-none-any.whl (2.1 MB)\n",
      "Installing collected packages: pip\n",
      "  Attempting uninstall: pip\n",
      "    Found existing installation: pip 21.1.3\n",
      "    Uninstalling pip-21.1.3:\n",
      "      Successfully uninstalled pip-21.1.3\n",
      "Successfully installed pip-23.3.2\n"
     ]
    },
    {
     "name": "stderr",
     "output_type": "stream",
     "text": [
      "WARNING: Ignoring invalid distribution -rotobuf (c:\\users\\hp\\appdata\\local\\programs\\python\\python39\\lib\\site-packages)\n",
      "WARNING: Ignoring invalid distribution -rotobuf (c:\\users\\hp\\appdata\\local\\programs\\python\\python39\\lib\\site-packages)\n",
      "WARNING: Ignoring invalid distribution -rotobuf (c:\\users\\hp\\appdata\\local\\programs\\python\\python39\\lib\\site-packages)\n",
      "    WARNING: Ignoring invalid distribution -rotobuf (c:\\users\\hp\\appdata\\local\\programs\\python\\python39\\lib\\site-packages)\n",
      "WARNING: Ignoring invalid distribution -rotobuf (c:\\users\\hp\\appdata\\local\\programs\\python\\python39\\lib\\site-packages)\n",
      "WARNING: Ignoring invalid distribution -rotobuf (c:\\users\\hp\\appdata\\local\\programs\\python\\python39\\lib\\site-packages)\n",
      "WARNING: Ignoring invalid distribution -rotobuf (c:\\users\\hp\\appdata\\local\\programs\\python\\python39\\lib\\site-packages)\n",
      "WARNING: Ignoring invalid distribution -rotobuf (c:\\users\\hp\\appdata\\local\\programs\\python\\python39\\lib\\site-packages)\n"
     ]
    }
   ],
   "source": [
    "!python -m pip install --upgrade pip"
   ]
  },
  {
   "cell_type": "code",
   "execution_count": 124,
   "id": "e07b1460-2fbb-459c-9a7d-72b0d3f1be5c",
   "metadata": {},
   "outputs": [],
   "source": [
    "API_KEY = \"\"\n",
    "\n",
    "\n",
    "import google.generativeai as genai"
   ]
  },
  {
   "cell_type": "code",
   "execution_count": 128,
   "id": "9ebf63f0-cf30-4a7f-92de-3c76df20fed4",
   "metadata": {},
   "outputs": [],
   "source": [
    "import pathlib\n",
    "import textwrap\n",
    "import pickle\n",
    "import google.generativeai as genai\n",
    "\n",
    "# Used to securely store your API key\n",
    "# from google.colab import userdata\n",
    "\n",
    "from IPython.display import display\n",
    "from IPython.display import Markdown\n",
    "\n",
    "\n",
    "def to_markdown(text):\n",
    "  text = text.replace('•', '  *')\n",
    "  return Markdown(textwrap.indent(text, '> ', predicate=lambda _: True))\n"
   ]
  },
  {
   "cell_type": "code",
   "execution_count": null,
   "id": "f7c9ce7a-9031-458b-a11d-7768b26a264b",
   "metadata": {},
   "outputs": [],
   "source": []
  },
  {
   "cell_type": "code",
   "execution_count": 130,
   "id": "abc80b61-ee58-41d8-9f22-b55a886ea7cd",
   "metadata": {},
   "outputs": [],
   "source": [
    "# # Or use `os.getenv('GOOGLE_API_KEY')` to fetch an environment variable.\n",
    "# GOOGLE_API_KEY=userdata.get('GOOGLE_API_KEY')\n",
    "genai.configure(api_key=API_KEY)"
   ]
  },
  {
   "cell_type": "code",
   "execution_count": 131,
   "id": "638b53a9-c79f-483b-bdd8-e586873ee938",
   "metadata": {},
   "outputs": [
    {
     "name": "stdout",
     "output_type": "stream",
     "text": [
      "models/gemini-pro\n",
      "models/gemini-pro-vision\n"
     ]
    }
   ],
   "source": [
    "for m in genai.list_models():\n",
    "  if 'generateContent' in m.supported_generation_methods:\n",
    "    print(m.name)"
   ]
  },
  {
   "cell_type": "code",
   "execution_count": null,
   "id": "5350c163-5c3b-4f5e-a685-b93701f74cc2",
   "metadata": {},
   "outputs": [],
   "source": []
  },
  {
   "cell_type": "code",
   "execution_count": null,
   "id": "b62f042c-56de-40e6-b63d-916a127580b9",
   "metadata": {},
   "outputs": [],
   "source": []
  },
  {
   "cell_type": "markdown",
   "id": "40e82daf-92d8-459e-a45e-7f7bb2111b5a",
   "metadata": {},
   "source": [
    "# Text generation"
   ]
  },
  {
   "cell_type": "code",
   "execution_count": 135,
   "id": "a28c2bfe-c975-4966-ade5-858567aa671a",
   "metadata": {},
   "outputs": [],
   "source": [
    "gen_model = genai.GenerativeModel('gemini-pro')"
   ]
  },
  {
   "cell_type": "code",
   "execution_count": 136,
   "id": "ee17af6b-d8cf-4bcf-b743-b4de3043102c",
   "metadata": {},
   "outputs": [
    {
     "data": {
      "text/plain": [
       " genai.GenerativeModel(\n",
       "   model_name='models/gemini-pro',\n",
       "   generation_config={}.\n",
       "   safety_settings={}\n",
       ")"
      ]
     },
     "execution_count": 136,
     "metadata": {},
     "output_type": "execute_result"
    }
   ],
   "source": [
    "gen_model"
   ]
  },
  {
   "cell_type": "code",
   "execution_count": 137,
   "id": "fa50f336-1080-47c7-93cc-2eebb38cc4c9",
   "metadata": {},
   "outputs": [],
   "source": [
    "response = gen_model.generate_content(\"What is the meaning of life?\")"
   ]
  },
  {
   "cell_type": "code",
   "execution_count": 138,
   "id": "438ba331-b392-4518-8034-1780d3a78394",
   "metadata": {},
   "outputs": [
    {
     "data": {
      "text/plain": [
       "<google.generativeai.types.generation_types.GenerateContentResponse at 0x21f4ff6ec70>"
      ]
     },
     "execution_count": 138,
     "metadata": {},
     "output_type": "execute_result"
    }
   ],
   "source": [
    "response"
   ]
  },
  {
   "cell_type": "code",
   "execution_count": 139,
   "id": "e5b4c702-42b1-467e-89ae-e9b6b923e11b",
   "metadata": {},
   "outputs": [
    {
     "data": {
      "text/markdown": [
       "> The meaning of life is a philosophical question that has been asked for centuries. There is no one definitive answer to this question, as the meaning of life is different for each individual. Some common themes that have been suggested as the meaning of life include:\n",
       "> \n",
       "> * To find happiness and fulfillment.\n",
       "> * To make a difference in the world.\n",
       "> * To connect with others and build relationships.\n",
       "> * To learn and grow as a person.\n",
       "> * To find purpose and meaning in one's work.\n",
       "> * To appreciate the beauty and wonder of the world.\n",
       "> * To live a life of integrity and authenticity.\n",
       "> \n",
       "> Ultimately, the meaning of life is something that each individual must discover for themselves. There is no right or wrong answer, and the meaning of life can change over time.\n",
       "> \n",
       "> Here are some additional perspectives on the meaning of life:\n",
       "> \n",
       "> * **The existentialist perspective:** Existentialists believe that there is no inherent meaning to life, and that each individual must create their own meaning. This can be done through making choices, taking action, and living a life of authenticity.\n",
       "> * **The religious perspective:** Many religions believe that the meaning of life is to live in accordance with God's will. This can involve following religious teachings, practicing certain rituals, and striving to live a righteous life.\n",
       "> * **The humanist perspective:** Humanists believe that the meaning of life is to live a life that is fulfilling and meaningful to the individual. This can involve pursuing one's own interests, making a difference in the world, and living a life of compassion and empathy.\n",
       "> \n",
       "> No matter what one's perspective on the meaning of life is, it is important to remember that the journey is just as important as the destination. The meaning of life is not something that can be achieved overnight, but rather something that is discovered through living a full and meaningful life."
      ],
      "text/plain": [
       "<IPython.core.display.Markdown object>"
      ]
     },
     "execution_count": 139,
     "metadata": {},
     "output_type": "execute_result"
    }
   ],
   "source": [
    "to_markdown(response.text)"
   ]
  },
  {
   "cell_type": "code",
   "execution_count": null,
   "id": "7002dda2-3f15-4cd4-ba91-440a0001aa96",
   "metadata": {},
   "outputs": [],
   "source": []
  },
  {
   "cell_type": "code",
   "execution_count": 140,
   "id": "25beac4a-7355-40bb-9517-0ec4a25ce932",
   "metadata": {},
   "outputs": [],
   "source": [
    "response = gen_model.generate_content(\"What is the net worth of google?\")"
   ]
  },
  {
   "cell_type": "code",
   "execution_count": 141,
   "id": "af3d1fc9-3d57-471b-8600-36a2bde89335",
   "metadata": {},
   "outputs": [
    {
     "data": {
      "text/markdown": [
       "> As of August 2023, Google's parent company, Alphabet Inc., has a market capitalization of approximately $1.2 trillion, making it one of the most valuable companies in the world. The net worth of Google is typically not reported as a separate entity from Alphabet, as the two are legally and financially intertwined. However, estimates of Google's individual net worth vary, and can range from several hundred billion to over a trillion dollars."
      ],
      "text/plain": [
       "<IPython.core.display.Markdown object>"
      ]
     },
     "execution_count": 141,
     "metadata": {},
     "output_type": "execute_result"
    }
   ],
   "source": [
    "to_markdown(response.text)"
   ]
  },
  {
   "cell_type": "code",
   "execution_count": 142,
   "id": "1d4dbf50-ec78-46f9-bfc1-b42e66f46f43",
   "metadata": {},
   "outputs": [
    {
     "data": {
      "text/markdown": [
       "> I do not have access to real-time information and my knowledge cutoff is April 2023. Therefore, I cannot answer this question as the Cricket World Cup 2023 has not taken place yet. I recommend checking the official website of the International Cricket Council (ICC) or a reputable news source for the most up-to-date information on the tournament."
      ],
      "text/plain": [
       "<IPython.core.display.Markdown object>"
      ]
     },
     "execution_count": 142,
     "metadata": {},
     "output_type": "execute_result"
    }
   ],
   "source": [
    "response = gen_model.generate_content(\"Who won the cricket worldcup 2023\")\n",
    "to_markdown(response.text)"
   ]
  },
  {
   "cell_type": "code",
   "execution_count": 58,
   "id": "f99a4a47-ed73-4a88-9f2c-cf4f314e7158",
   "metadata": {},
   "outputs": [
    {
     "data": {
      "text/markdown": [
       "> Diwali, also known as Deepawali, is a festival of lights celebrated by Hindus, Sikhs, and Jains across the world. In India, Diwali is typically celebrated over a period of five days, with the main day of the festival falling on the third day. \n",
       "> \n",
       "> In 2023, Diwali will be celebrated in India on **Sunday, November 12**."
      ],
      "text/plain": [
       "<IPython.core.display.Markdown object>"
      ]
     },
     "execution_count": 58,
     "metadata": {},
     "output_type": "execute_result"
    }
   ],
   "source": [
    "response = model.generate_content(\"when the diwali festival will be celeberate in india 2023\")\n",
    "to_markdown(response.text)"
   ]
  },
  {
   "cell_type": "code",
   "execution_count": 143,
   "id": "9cef8b20-45a9-4d30-a42d-8df42b630b28",
   "metadata": {},
   "outputs": [
    {
     "data": {
      "text/plain": [
       "[index: 0\n",
       "content {\n",
       "  parts {\n",
       "    text: \"I do not have access to real-time information and my knowledge cutoff is April 2023. Therefore, I cannot answer this question as the Cricket World Cup 2023 has not taken place yet. I recommend checking the official website of the International Cricket Council (ICC) or a reputable news source for the most up-to-date information on the tournament.\"\n",
       "  }\n",
       "  role: \"model\"\n",
       "}\n",
       "finish_reason: STOP\n",
       "safety_ratings {\n",
       "  category: HARM_CATEGORY_SEXUALLY_EXPLICIT\n",
       "  probability: NEGLIGIBLE\n",
       "}\n",
       "safety_ratings {\n",
       "  category: HARM_CATEGORY_HATE_SPEECH\n",
       "  probability: NEGLIGIBLE\n",
       "}\n",
       "safety_ratings {\n",
       "  category: HARM_CATEGORY_HARASSMENT\n",
       "  probability: NEGLIGIBLE\n",
       "}\n",
       "safety_ratings {\n",
       "  category: HARM_CATEGORY_DANGEROUS_CONTENT\n",
       "  probability: NEGLIGIBLE\n",
       "}\n",
       "]"
      ]
     },
     "execution_count": 143,
     "metadata": {},
     "output_type": "execute_result"
    }
   ],
   "source": [
    "response.candidates"
   ]
  },
  {
   "cell_type": "code",
   "execution_count": null,
   "id": "eda62037-49b0-4414-9e6b-f6af953ee500",
   "metadata": {},
   "outputs": [],
   "source": []
  },
  {
   "cell_type": "code",
   "execution_count": 64,
   "id": "be909397-2bbc-4324-a77f-5d6282836f3d",
   "metadata": {},
   "outputs": [],
   "source": [
    "response = gen_model.generate_content(\"What is the meaning of life?\", stream=True)"
   ]
  },
  {
   "cell_type": "code",
   "execution_count": 66,
   "id": "acd1da05-a47f-438f-bc00-88339b2acf78",
   "metadata": {},
   "outputs": [
    {
     "data": {
      "text/markdown": [
       "> The meaning of life is a deeply personal and philosophical question that has been pondered by humans for millennia. There is no single answer that is universally agreed upon, as the meaning of life is subjective and can vary greatly from one individual to another. Some common themes that emerge when discussing the meaning of life include:\n",
       "> \n",
       "> - **Finding purpose and fulfillment:** Many people find meaning in their life by pursuing goals, achieving milestones, and making a positive contribution to the world. This can include pursuing a career, raising a family, engaging in creative endeavors, or making a difference in the community.\n",
       "> \n",
       "> - **Experiencing joy and happiness:** Some people find meaning in life by simply enjoying the present moment and seeking out experiences that bring them joy and satisfaction. This can include spending time with loved ones, traveling, pursuing hobbies, or engaging in activities that bring a sense of fulfillment.\n",
       "> \n",
       "> - **Seeking knowledge and understanding:** Others find meaning in life through the pursuit of knowledge and understanding. This can involve studying different subjects, exploring new ideas, or seeking out experiences that broaden their perspective and help them better understand the world around them.\n",
       "> \n",
       "> - **Creating a legacy:** Some people find meaning in life by leaving a lasting legacy after they are gone. This can include creating works of art, raising a family, making a significant contribution to society, or leaving a positive impact on the world in some way.\n",
       "> \n",
       "> - **Connecting with others:** Many people find meaning in life through their connections with others. This can include building strong relationships with family and friends, forming a sense of community, or engaging in acts of kindness and compassion towards others.\n",
       "> \n",
       "> Ultimately, the meaning of life is something that each individual must discover for themselves. There is no right or wrong answer, and the meaning of life can change over time as a person's experiences and perspectives evolve."
      ],
      "text/plain": [
       "<IPython.core.display.Markdown object>"
      ]
     },
     "execution_count": 66,
     "metadata": {},
     "output_type": "execute_result"
    }
   ],
   "source": [
    "to_markdown(response.text)"
   ]
  },
  {
   "cell_type": "code",
   "execution_count": 67,
   "id": "88e794c8-3ac2-415d-9ee5-8a44780cee49",
   "metadata": {},
   "outputs": [
    {
     "name": "stdout",
     "output_type": "stream",
     "text": [
      "The meaning of life is a deeply personal and philosophical question that has been pondered by\n",
      "________________________________________________________________________________\n",
      " humans for millennia. There is no single answer that is universally agreed upon, as the meaning of life is subjective and can vary greatly from one individual to another.\n",
      "________________________________________________________________________________\n",
      " Some common themes that emerge when discussing the meaning of life include:\n",
      "\n",
      "- **Finding purpose and fulfillment:** Many people find meaning in their life by pursuing goals, achieving milestones, and making a positive contribution to the world. This can include pursuing a career, raising a family, engaging in creative endeavors, or making a difference\n",
      "________________________________________________________________________________\n",
      " in the community.\n",
      "\n",
      "- **Experiencing joy and happiness:** Some people find meaning in life by simply enjoying the present moment and seeking out experiences that bring them joy and satisfaction. This can include spending time with loved ones, traveling, pursuing hobbies, or engaging in activities that bring a sense of fulfillment.\n",
      "\n",
      "- **Seeking knowledge and understanding:** Others find meaning in life through the pursuit of knowledge and understanding. This can involve studying different subjects, exploring new ideas, or seeking out experiences that broaden their perspective and help them better understand the world around them.\n",
      "\n",
      "- **Creating a legacy:** Some people find meaning in life by leaving a lasting\n",
      "________________________________________________________________________________\n",
      " legacy after they are gone. This can include creating works of art, raising a family, making a significant contribution to society, or leaving a positive impact on the world in some way.\n",
      "\n",
      "- **Connecting with others:** Many people find meaning in life through their connections with others. This can include building strong relationships with family and friends, forming a sense of community, or engaging in acts of kindness and compassion towards others.\n",
      "\n",
      "Ultimately, the meaning of life is something that each individual must discover for themselves. There is no right or wrong answer, and the meaning of life can change over time as a person's experiences and perspectives evolve.\n",
      "________________________________________________________________________________\n"
     ]
    }
   ],
   "source": [
    "for chunk in response:\n",
    "  print(chunk.text)\n",
    "  print(\"_\"*80)"
   ]
  },
  {
   "cell_type": "code",
   "execution_count": 148,
   "id": "04ecc3d4-9048-4f5d-a845-7576f2f07be2",
   "metadata": {},
   "outputs": [],
   "source": [
    "# pickle.dump(gen_model,open(r'D:\\projects\\palm\\gen_model.pkl','wb'))"
   ]
  },
  {
   "cell_type": "code",
   "execution_count": 149,
   "id": "b32e7883-0011-45e9-879b-31ba59e1e3db",
   "metadata": {},
   "outputs": [],
   "source": [
    "# with open('gen_model.pkl', 'wb') as file:\n",
    "#     pickle.dump(gen_model, file)"
   ]
  },
  {
   "cell_type": "code",
   "execution_count": null,
   "id": "7fbabaaf-7474-4ef0-9cb6-34d63646a01c",
   "metadata": {},
   "outputs": [],
   "source": []
  },
  {
   "cell_type": "code",
   "execution_count": null,
   "id": "7ec32614-ba5d-4fef-a2d2-2098f66b2fd2",
   "metadata": {},
   "outputs": [],
   "source": []
  },
  {
   "cell_type": "markdown",
   "id": "a20b391f-be59-4751-9e30-f69e7420a676",
   "metadata": {},
   "source": [
    "# image to text"
   ]
  },
  {
   "cell_type": "code",
   "execution_count": 19,
   "id": "09435916-ba4a-4f90-9edc-f16c5b45131b",
   "metadata": {},
   "outputs": [
    {
     "data": {
      "image/jpeg": "[encoded data removed]",
      "image/png": "[encoded data removed]",
      "text/plain": [
       "<PIL.JpegImagePlugin.JpegImageFile image mode=RGB size=204x204>"
      ]
     },
     "execution_count": 19,
     "metadata": {},
     "output_type": "execute_result"
    }
   ],
   "source": [
    "import PIL.Image\n",
    "\n",
    "img = PIL.Image.open(r'C:\\Users\\hp\\OneDrive\\Pictures\\Screenshots\\asura.jpg')\n",
    "img"
   ]
  },
  {
   "cell_type": "code",
   "execution_count": 20,
   "id": "a796ebd3-6a4d-4c2b-8550-1fe9df5b2e3b",
   "metadata": {},
   "outputs": [],
   "source": [
    "model = genai.GenerativeModel('gemini-pro-vision')"
   ]
  },
  {
   "cell_type": "code",
   "execution_count": 21,
   "id": "a04833d3-3876-42ad-81ad-0f0f686900ea",
   "metadata": {},
   "outputs": [
    {
     "data": {
      "text/markdown": [
       ">  This is a traditional Balinese mask."
      ],
      "text/plain": [
       "<IPython.core.display.Markdown object>"
      ]
     },
     "execution_count": 21,
     "metadata": {},
     "output_type": "execute_result"
    }
   ],
   "source": [
    "response = model.generate_content(img)\n",
    "\n",
    "to_markdown(response.text)"
   ]
  },
  {
   "cell_type": "code",
   "execution_count": null,
   "id": "8b0f0dc4-aeb5-4634-8f81-7ba10a330144",
   "metadata": {},
   "outputs": [],
   "source": []
  },
  {
   "cell_type": "code",
   "execution_count": 22,
   "id": "85e61541-2d89-42b3-89fd-6d5c64bcf5d6",
   "metadata": {},
   "outputs": [],
   "source": [
    "response = model.generate_content([\"Write a short, engaging blog post based on this picture\", img], stream=True)\n",
    "response.resolve()"
   ]
  },
  {
   "cell_type": "code",
   "execution_count": 23,
   "id": "42f35a66-13d8-476f-b64a-dbbbae5991e8",
   "metadata": {},
   "outputs": [
    {
     "data": {
      "text/markdown": [
       ">  **The Barong: A Balinese Spirit Mask**\n",
       "> \n",
       "> The Barong is a benevolent spirit mask used in traditional Balinese dance and drama performances. It is one of the most important and well-known masks in Balinese culture, and is often used to represent the forces of good in the eternal battle between good and evil.\n",
       "> \n",
       "> The Barong is typically made of wood or leather, and is often painted in bright colors. It has a large, gaping mouth with sharp teeth, and its eyes are usually made of glass or metal. The mask is often decorated with intricate carvings and gold leaf.\n",
       "> \n",
       "> The Barong is believed to be the guardian of the Balinese people, and is often invoked to protect them from evil spirits. It is also used in rituals to promote fertility and good harvests.\n",
       "> \n",
       "> When the Barong is danced, it is usually accompanied by a group of musicians playing traditional Balinese instruments. The dance is often very lively and energetic, and the Barong is often seen leaping and spinning around the stage.\n",
       "> \n",
       "> The Barong is a powerful and important symbol in Balinese culture, and it is a reminder of the importance of good over evil."
      ],
      "text/plain": [
       "<IPython.core.display.Markdown object>"
      ]
     },
     "execution_count": 23,
     "metadata": {},
     "output_type": "execute_result"
    }
   ],
   "source": [
    "to_markdown(response.text)"
   ]
  },
  {
   "cell_type": "code",
   "execution_count": null,
   "id": "bcbb3d69-6e96-4fc4-a75d-89d272d0fd2a",
   "metadata": {},
   "outputs": [],
   "source": []
  },
  {
   "cell_type": "markdown",
   "id": "b2f373cf-d6de-4aa5-ac2c-7ecd91ea4dca",
   "metadata": {},
   "source": [
    "# Chat conversations"
   ]
  },
  {
   "cell_type": "code",
   "execution_count": 88,
   "id": "ddf3de6f-c7c3-445a-b080-7e71f09aab9e",
   "metadata": {},
   "outputs": [
    {
     "data": {
      "text/plain": [
       "<google.generativeai.generative_models.ChatSession at 0x21f4f4ddee0>"
      ]
     },
     "execution_count": 88,
     "metadata": {},
     "output_type": "execute_result"
    }
   ],
   "source": [
    "model = genai.GenerativeModel('gemini-pro')\n",
    "chat = model.start_chat(history=[])\n",
    "chat"
   ]
  },
  {
   "cell_type": "code",
   "execution_count": 89,
   "id": "1760f007-5eca-46cb-881d-fab10f44bc79",
   "metadata": {},
   "outputs": [
    {
     "data": {
      "text/markdown": [
       "> A computer uses electricity to do math really fast and show us the answers on a screen."
      ],
      "text/plain": [
       "<IPython.core.display.Markdown object>"
      ]
     },
     "execution_count": 89,
     "metadata": {},
     "output_type": "execute_result"
    }
   ],
   "source": [
    "response = chat.send_message(\"In one sentence, explain how a computer works to a young child.\")\n",
    "to_markdown(response.text)"
   ]
  },
  {
   "cell_type": "code",
   "execution_count": 90,
   "id": "a2c1c392-8503-402a-85e2-4510ab64d99c",
   "metadata": {},
   "outputs": [
    {
     "data": {
      "text/plain": [
       "[parts {\n",
       "   text: \"In one sentence, explain how a computer works to a young child.\"\n",
       " }\n",
       " role: \"user\",\n",
       " parts {\n",
       "   text: \"A computer uses electricity to do math really fast and show us the answers on a screen.\"\n",
       " }\n",
       " role: \"model\"]"
      ]
     },
     "execution_count": 90,
     "metadata": {},
     "output_type": "execute_result"
    }
   ],
   "source": [
    "chat.history"
   ]
  },
  {
   "cell_type": "code",
   "execution_count": 96,
   "id": "a92c0946-a80f-4389-bda1-fa4011815238",
   "metadata": {},
   "outputs": [],
   "source": [
    "# response = chat.send_message(\"Okay, how about a more detailed explanation to a high schooler?\", stream=True)\n",
    "# to_markdown(response.text)"
   ]
  },
  {
   "cell_type": "code",
   "execution_count": 97,
   "id": "dbf63419-b47f-4acb-9a38-29c83e56f5a7",
   "metadata": {},
   "outputs": [
    {
     "name": "stdout",
     "output_type": "stream",
     "text": [
      "A computer is an electronic device that receives input, processes data, stores data,\n",
      "________________________________________________________________________________\n",
      " and outputs information. The input can come from a variety of sources, such as a keyboard, mouse, or microphone. The data is then processed by the computer\n",
      "________________________________________________________________________________\n",
      "'s central processing unit (CPU), which performs calculations and logical operations. The results of the processing are stored in the computer's memory, and can be retrieved and displayed on a screen or printed on paper.\n",
      "\n",
      "Here's a simplified analogy: Imagine a computer as a chef in a kitchen. The input is\n",
      "________________________________________________________________________________\n",
      " the ingredients, the CPU is the chef, the memory is the pantry, and the output is the cooked meal. The chef (CPU) follows a recipe (program) to combine the ingredients (data) in the pantry (memory) to create a dish (output).\n",
      "\n",
      "Computers are used in a wide variety of applications, including word processing, spreadsheets, presentations, games, graphic design, music production, video editing, and web browsing. They are also used to control industrial machinery, medical equipment, and transportation systems.\n",
      "________________________________________________________________________________\n"
     ]
    }
   ],
   "source": [
    "for chunk in response:\n",
    "  print(chunk.text)\n",
    "  print(\"_\"*80)"
   ]
  },
  {
   "cell_type": "code",
   "execution_count": 98,
   "id": "77337004-4010-4cd6-a24b-748d6306f9f2",
   "metadata": {},
   "outputs": [
    {
     "data": {
      "text/markdown": [
       "> **user**: In one sentence, explain how a computer works to a young child."
      ],
      "text/plain": [
       "<IPython.core.display.Markdown object>"
      ]
     },
     "metadata": {},
     "output_type": "display_data"
    },
    {
     "data": {
      "text/markdown": [
       "> **model**: A computer uses electricity to do math really fast and show us the answers on a screen."
      ],
      "text/plain": [
       "<IPython.core.display.Markdown object>"
      ]
     },
     "metadata": {},
     "output_type": "display_data"
    },
    {
     "data": {
      "text/markdown": [
       "> **user**: Okay, how about a more detailed explanation to a high schooler?"
      ],
      "text/plain": [
       "<IPython.core.display.Markdown object>"
      ]
     },
     "metadata": {},
     "output_type": "display_data"
    },
    {
     "data": {
      "text/markdown": [
       "> **model**: A computer is an electronic device that receives input, processes data, stores data, and outputs information. The input can come from a variety of sources, such as a keyboard, mouse, or microphone. The data is then processed by the computer's central processing unit (CPU), which performs calculations and logical operations. The results of the processing are stored in the computer's memory, and can be retrieved and displayed on a screen or printed on paper.\n",
       "> \n",
       "> Here's a simplified analogy: Imagine a computer as a chef in a kitchen. The input is the ingredients, the CPU is the chef, the memory is the pantry, and the output is the cooked meal. The chef (CPU) follows a recipe (program) to combine the ingredients (data) in the pantry (memory) to create a dish (output).\n",
       "> \n",
       "> Computers are used in a wide variety of applications, including word processing, spreadsheets, presentations, games, graphic design, music production, video editing, and web browsing. They are also used to control industrial machinery, medical equipment, and transportation systems."
      ],
      "text/plain": [
       "<IPython.core.display.Markdown object>"
      ]
     },
     "metadata": {},
     "output_type": "display_data"
    }
   ],
   "source": [
    "for message in chat.history:\n",
    "  display(to_markdown(f'**{message.role}**: {message.parts[0].text}'))"
   ]
  },
  {
   "cell_type": "code",
   "execution_count": null,
   "id": "de9940b4-6fdd-4d82-b02e-c2317d4eb09e",
   "metadata": {},
   "outputs": [],
   "source": []
  },
  {
   "cell_type": "code",
   "execution_count": null,
   "id": "2599eb40-8d01-42ad-9beb-68d35b40b86a",
   "metadata": {},
   "outputs": [],
   "source": []
  },
  {
   "cell_type": "code",
   "execution_count": null,
   "id": "e69ab7cd-ec7c-4649-82a4-e84c6eccfa60",
   "metadata": {},
   "outputs": [],
   "source": []
  },
  {
   "cell_type": "code",
   "execution_count": null,
   "id": "c7f0fdb7-046f-4a02-8079-4f3d116d9781",
   "metadata": {},
   "outputs": [],
   "source": []
  },
  {
   "cell_type": "markdown",
   "id": "2ad84ad5-ea95-487b-baa8-b09e73fa0f36",
   "metadata": {},
   "source": [
    "# embeddings"
   ]
  },
  {
   "cell_type": "code",
   "execution_count": null,
   "id": "53fd0b3e-ddc4-4c93-880a-d9a42394d25e",
   "metadata": {},
   "outputs": [],
   "source": []
  },
  {
   "cell_type": "code",
   "execution_count": 99,
   "id": "529476d0-0fc0-49ea-b0f9-ea37f8d8faae",
   "metadata": {},
   "outputs": [
    {
     "name": "stdout",
     "output_type": "stream",
     "text": [
      "[-0.003216741, -0.013358698, -0.017649598, -0.0091 ... TRIMMED]\n"
     ]
    },
    {
     "data": {
      "text/plain": [
       "1"
      ]
     },
     "execution_count": 99,
     "metadata": {},
     "output_type": "execute_result"
    }
   ],
   "source": [
    "result = genai.embed_content(\n",
    "    model=\"models/embedding-001\",\n",
    "    content=\"What is the meaning of life?\",\n",
    "    task_type=\"retrieval_document\",\n",
    "    title=\"Embedding of single string\")\n",
    "\n",
    "# 1 input > 1 vector output\n",
    "print(str(result['embedding'])[:50], '... TRIMMED]')\n",
    "len(result)"
   ]
  },
  {
   "cell_type": "code",
   "execution_count": 100,
   "id": "f30a38e2-8b1d-4ae6-8e7d-e9013cd9686b",
   "metadata": {},
   "outputs": [
    {
     "data": {
      "text/plain": [
       "[-0.003216741,\n",
       " -0.013358698,\n",
       " -0.017649598,\n",
       " -0.009181086,\n",
       " 0.03926703,\n",
       " 0.00038724372,\n",
       " 0.04898349,\n",
       " -0.0023305446,\n",
       " -0.020243652,\n",
       " 0.012394654,\n",
       " -0.015487696,\n",
       " 0.007854712,\n",
       " -0.0036892202,\n",
       " -0.03875109,\n",
       " -0.014143618,\n",
       " -0.03157482,\n",
       " 0.043664,\n",
       " -0.012639754,\n",
       " -0.013856963,\n",
       " -0.035368867,\n",
       " -0.02083169,\n",
       " -0.02772484,\n",
       " 0.022817137,\n",
       " 0.014411988,\n",
       " -0.010126491,\n",
       " -0.025422357,\n",
       " 0.03446101,\n",
       " -0.049600348,\n",
       " -0.007758251,\n",
       " 0.032162495,\n",
       " -0.031210061,\n",
       " 0.018713735,\n",
       " -0.06506596,\n",
       " -0.014446418,\n",
       " 0.037912805,\n",
       " -0.047814418,\n",
       " 0.017829161,\n",
       " -0.030598102,\n",
       " -0.080040686,\n",
       " 0.014093507,\n",
       " 0.044828024,\n",
       " -0.03998069,\n",
       " -0.037098397,\n",
       " -0.036323722,\n",
       " 0.015360416,\n",
       " 0.015400565,\n",
       " -0.02089156,\n",
       " 0.05555013,\n",
       " 0.02301401,\n",
       " -0.11904545,\n",
       " 0.019397752,\n",
       " 0.024494164,\n",
       " 0.10974229,\n",
       " -0.021818588,\n",
       " -0.024052579,\n",
       " -0.026254693,\n",
       " 0.048247337,\n",
       " 0.0047094426,\n",
       " -0.012893013,\n",
       " -0.012916471,\n",
       " 0.007871746,\n",
       " -0.020871392,\n",
       " -0.000119492506,\n",
       " 0.042224966,\n",
       " -0.0055988817,\n",
       " -0.03899682,\n",
       " -0.0028476096,\n",
       " 0.037036117,\n",
       " 0.04640705,\n",
       " -0.010780086,\n",
       " 0.020535132,\n",
       " -0.010609672,\n",
       " 0.020280624,\n",
       " 0.009942909,\n",
       " -0.0068280003,\n",
       " -0.07204397,\n",
       " 0.009851092,\n",
       " 0.037685942,\n",
       " 0.002913668,\n",
       " -0.00055340916,\n",
       " 0.0008719375,\n",
       " -0.015364285,\n",
       " -0.033852443,\n",
       " -0.027374202,\n",
       " -0.072691046,\n",
       " 0.037151106,\n",
       " -0.052453473,\n",
       " -0.006294687,\n",
       " -0.027677005,\n",
       " 0.028629389,\n",
       " 0.01754908,\n",
       " -0.032203496,\n",
       " 0.0023170682,\n",
       " -0.05802702,\n",
       " -0.004075434,\n",
       " 0.062627636,\n",
       " -0.021503273,\n",
       " -0.018075816,\n",
       " 0.038586594,\n",
       " 0.011634059,\n",
       " 0.01658855,\n",
       " -0.02078414,\n",
       " -0.070944205,\n",
       " 0.041910786,\n",
       " 0.0019817222,\n",
       " -0.008846287,\n",
       " 0.04198279,\n",
       " 0.08987393,\n",
       " 0.03557471,\n",
       " 0.07637375,\n",
       " 0.0015572925,\n",
       " -0.048906416,\n",
       " -0.011738204,\n",
       " 0.019111592,\n",
       " 0.024342509,\n",
       " -0.010411408,\n",
       " 0.012408006,\n",
       " 0.01671583,\n",
       " 0.02161655,\n",
       " -0.0045928406,\n",
       " 0.025630353,\n",
       " 0.036673363,\n",
       " 0.10867693,\n",
       " -0.03299406,\n",
       " 0.00810736,\n",
       " 0.05063906,\n",
       " -0.01454903,\n",
       " 0.009022038,\n",
       " 0.028238375,\n",
       " 0.03238008,\n",
       " -6.60381e-05,\n",
       " -0.043578956,\n",
       " 0.025648493,\n",
       " 0.02328103,\n",
       " 0.07784112,\n",
       " 0.11715881,\n",
       " 0.014142219,\n",
       " 0.020598045,\n",
       " 0.0255545,\n",
       " 0.035370976,\n",
       " -0.0171993,\n",
       " 0.069956705,\n",
       " 0.048385248,\n",
       " 0.07370205,\n",
       " -0.046998445,\n",
       " 0.026620654,\n",
       " -0.037627548,\n",
       " -0.02817886,\n",
       " 0.042839177,\n",
       " -0.04026307,\n",
       " -0.047654655,\n",
       " 0.01547965,\n",
       " -0.123928234,\n",
       " -0.004669245,\n",
       " 0.059220277,\n",
       " 0.018193292,\n",
       " -0.0011095831,\n",
       " 0.06567323,\n",
       " -0.029685684,\n",
       " 0.009895556,\n",
       " 0.026151074,\n",
       " -0.0012991461,\n",
       " -0.025267279,\n",
       " 0.04562342,\n",
       " 0.04448068,\n",
       " -0.0017293743,\n",
       " -0.014336849,\n",
       " -0.04528959,\n",
       " -0.004354609,\n",
       " 0.019759228,\n",
       " -0.002690289,\n",
       " 0.039542276,\n",
       " -0.06609152,\n",
       " -0.038003612,\n",
       " -0.0099333245,\n",
       " -0.061154354,\n",
       " -0.016340967,\n",
       " 0.020580197,\n",
       " -0.011272131,\n",
       " 0.0005962308,\n",
       " -0.0042967363,\n",
       " -0.04700157,\n",
       " -0.043238934,\n",
       " -0.0026947327,\n",
       " 0.041758586,\n",
       " -0.01744953,\n",
       " 0.03192002,\n",
       " -0.07010807,\n",
       " -0.021718273,\n",
       " -0.0146510415,\n",
       " -0.03566914,\n",
       " 0.005932091,\n",
       " -0.025090424,\n",
       " -0.0006229593,\n",
       " -0.0151138995,\n",
       " -0.005084878,\n",
       " 0.013678139,\n",
       " 0.036184706,\n",
       " 0.0590611,\n",
       " -0.021694219,\n",
       " -0.009348956,\n",
       " 0.06735574,\n",
       " 0.030223414,\n",
       " -0.010057772,\n",
       " 0.0036535943,\n",
       " -0.014972345,\n",
       " 0.027259784,\n",
       " -0.03444127,\n",
       " -0.05122927,\n",
       " 0.046676617,\n",
       " -0.014924508,\n",
       " -0.0068982616,\n",
       " 0.027008293,\n",
       " 0.048163667,\n",
       " 0.037925314,\n",
       " -0.009212042,\n",
       " -0.0041941134,\n",
       " 0.008104057,\n",
       " 0.016399024,\n",
       " -0.03669679,\n",
       " 0.01625046,\n",
       " 0.00024626314,\n",
       " -0.030091973,\n",
       " -0.0010495879,\n",
       " 0.025811868,\n",
       " 0.027902916,\n",
       " -0.008700391,\n",
       " 0.03329432,\n",
       " 0.028440615,\n",
       " -0.024993485,\n",
       " -0.006726392,\n",
       " 0.06921916,\n",
       " 0.051419314,\n",
       " -0.02111897,\n",
       " 0.017334884,\n",
       " -0.045879226,\n",
       " 0.05320554,\n",
       " 0.044701695,\n",
       " -0.0012708495,\n",
       " 0.0099728275,\n",
       " -0.023979753,\n",
       " 0.004812896,\n",
       " 0.036708027,\n",
       " 0.034626048,\n",
       " -0.05151066,\n",
       " -0.036955375,\n",
       " -0.029011257,\n",
       " 0.05802193,\n",
       " 0.0033974557,\n",
       " 0.02746483,\n",
       " -0.005752141,\n",
       " -0.02573595,\n",
       " -0.019199194,\n",
       " 0.06868319,\n",
       " -0.021396665,\n",
       " 0.020600062,\n",
       " -0.0314863,\n",
       " 0.010622818,\n",
       " -0.019492056,\n",
       " 0.040711533,\n",
       " 0.07843415,\n",
       " 0.028992798,\n",
       " 0.03854161,\n",
       " -0.026348224,\n",
       " -0.037593503,\n",
       " -0.03513238,\n",
       " 0.009544054,\n",
       " -0.07399779,\n",
       " 0.02330669,\n",
       " 0.0050634756,\n",
       " 0.006670115,\n",
       " -0.00431828,\n",
       " 0.012963456,\n",
       " -0.02244114,\n",
       " -0.032782078,\n",
       " 0.005324627,\n",
       " -0.030864734,\n",
       " 0.04453648,\n",
       " 0.00018032952,\n",
       " -0.036486328,\n",
       " 0.022853028,\n",
       " 0.020790435,\n",
       " -0.03196063,\n",
       " -0.026809836,\n",
       " 0.0063186223,\n",
       " 0.010222431,\n",
       " -0.044000093,\n",
       " -0.024011567,\n",
       " 0.010361509,\n",
       " -0.05367094,\n",
       " -0.009981148,\n",
       " -0.015804354,\n",
       " -0.030686408,\n",
       " -0.049371067,\n",
       " -0.042692356,\n",
       " -0.012271035,\n",
       " -0.004415639,\n",
       " 0.07744273,\n",
       " 0.047828976,\n",
       " 0.01514304,\n",
       " -0.027678164,\n",
       " -0.05942295,\n",
       " -0.0011036077,\n",
       " -0.08408025,\n",
       " 0.009058036,\n",
       " 0.007209284,\n",
       " 0.007457653,\n",
       " -0.050808657,\n",
       " -0.043080285,\n",
       " 0.017219715,\n",
       " -0.017542753,\n",
       " -0.006727894,\n",
       " -0.033573925,\n",
       " 0.0010330203,\n",
       " 0.0065774783,\n",
       " 0.030016948,\n",
       " -0.008809983,\n",
       " 0.0491607,\n",
       " -0.017455919,\n",
       " 0.060629558,\n",
       " -0.02738033,\n",
       " 0.095640354,\n",
       " 0.02913004,\n",
       " 0.015551569,\n",
       " -0.048233703,\n",
       " 0.013064922,\n",
       " -0.028323878,\n",
       " 0.06886166,\n",
       " 0.032638896,\n",
       " 0.013894034,\n",
       " -0.015377632,\n",
       " -0.054876048,\n",
       " -0.018883554,\n",
       " 0.0062337606,\n",
       " 0.024334203,\n",
       " 0.07188967,\n",
       " -0.053156827,\n",
       " 0.0067737224,\n",
       " -0.045611713,\n",
       " -0.020162074,\n",
       " 0.013088238,\n",
       " 0.039108485,\n",
       " -0.020556739,\n",
       " -0.047884084,\n",
       " 0.020238249,\n",
       " -0.051868595,\n",
       " -0.05255452,\n",
       " 0.010552976,\n",
       " 0.0836331,\n",
       " -0.008547835,\n",
       " 0.041919466,\n",
       " 0.053207215,\n",
       " -0.012288323,\n",
       " 0.021165038,\n",
       " 0.035795588,\n",
       " -0.03597755,\n",
       " 0.052471083,\n",
       " -0.034167703,\n",
       " 0.02668163,\n",
       " -0.02042614,\n",
       " -0.013776834,\n",
       " 0.028146608,\n",
       " 0.014933395,\n",
       " -0.03546972,\n",
       " 0.025519703,\n",
       " -0.002758969,\n",
       " -0.037487805,\n",
       " 0.047686476,\n",
       " -0.0062406855,\n",
       " 0.0060824524,\n",
       " 0.0074077547,\n",
       " -0.024307003,\n",
       " 0.032887943,\n",
       " -0.02905976,\n",
       " 0.023485063,\n",
       " -0.0007535288,\n",
       " -0.031945545,\n",
       " -0.0061224294,\n",
       " 0.05242258,\n",
       " -0.00667162,\n",
       " -0.057341777,\n",
       " -0.014981783,\n",
       " 0.043146435,\n",
       " 0.011515064,\n",
       " 0.0038671184,\n",
       " -0.03481588,\n",
       " 0.013583758,\n",
       " 0.032770544,\n",
       " -0.0068235663,\n",
       " 0.043436088,\n",
       " 0.018047031,\n",
       " 0.0090075275,\n",
       " 0.047502,\n",
       " 0.008275575,\n",
       " 0.04608855,\n",
       " 0.009389855,\n",
       " 0.036844756,\n",
       " -0.018902764,\n",
       " 0.014149742,\n",
       " -0.007693663,\n",
       " -0.031487938,\n",
       " -0.011004832,\n",
       " -0.03310282,\n",
       " 0.003014729,\n",
       " -0.016074048,\n",
       " -0.017417798,\n",
       " -0.012820296,\n",
       " 0.0050092703,\n",
       " 0.008732763,\n",
       " 0.0015872335,\n",
       " 0.006536589,\n",
       " 0.0043926034,\n",
       " -0.012119194,\n",
       " -0.050482273,\n",
       " -0.037209913,\n",
       " 0.0065892637,\n",
       " 0.02069381,\n",
       " -0.0051661762,\n",
       " -0.0013219406,\n",
       " 0.044289332,\n",
       " -0.045044284,\n",
       " -0.013957141,\n",
       " 0.010241469,\n",
       " -0.012449463,\n",
       " -0.050075777,\n",
       " -0.031009464,\n",
       " 0.03436284,\n",
       " -0.01904568,\n",
       " 0.027027221,\n",
       " -0.010700156,\n",
       " 0.07177122,\n",
       " -0.0012505968,\n",
       " 0.032169413,\n",
       " -9.7161545e-05,\n",
       " 0.011372212,\n",
       " -0.041530546,\n",
       " 0.017925898,\n",
       " 0.025645716,\n",
       " -0.011030445,\n",
       " -0.029408336,\n",
       " 0.0175919,\n",
       " 0.008229105,\n",
       " 0.03991346,\n",
       " -0.013519826,\n",
       " -0.038105916,\n",
       " 0.020721538,\n",
       " -0.0014571535,\n",
       " -0.01829365,\n",
       " 0.020573601,\n",
       " -0.11059582,\n",
       " 0.020153426,\n",
       " -0.0259404,\n",
       " -0.01178935,\n",
       " -0.047359813,\n",
       " -0.042125773,\n",
       " -0.031818446,\n",
       " 0.00031021415,\n",
       " 0.0755588,\n",
       " -0.02233753,\n",
       " -0.022615204,\n",
       " -0.004500683,\n",
       " -0.016433636,\n",
       " -0.024433756,\n",
       " -0.10654358,\n",
       " 0.0008435097,\n",
       " -0.005755329,\n",
       " 0.019578889,\n",
       " -2.8103437e-05,\n",
       " 0.038353752,\n",
       " 0.06248239,\n",
       " -0.0051727765,\n",
       " -0.029248504,\n",
       " 0.028612673,\n",
       " -0.03318321,\n",
       " -0.020410785,\n",
       " -0.027545318,\n",
       " -0.04593214,\n",
       " 0.0055689067,\n",
       " -0.032145478,\n",
       " 0.0046462915,\n",
       " -0.009271991,\n",
       " 0.012813411,\n",
       " 0.020496314,\n",
       " 0.019983567,\n",
       " -0.050649483,\n",
       " 0.0028778792,\n",
       " 0.015079238,\n",
       " 0.024556784,\n",
       " -0.02289546,\n",
       " 0.07435617,\n",
       " -0.0053285155,\n",
       " -0.05243247,\n",
       " 0.026592854,\n",
       " -0.05026462,\n",
       " -0.0027346872,\n",
       " 0.01615321,\n",
       " -0.03901915,\n",
       " 0.03258169,\n",
       " 0.033295475,\n",
       " 0.017990291,\n",
       " -0.028573025,\n",
       " -0.038556594,\n",
       " -0.020577913,\n",
       " 0.000479529,\n",
       " 0.09689711,\n",
       " -0.1197554,\n",
       " 0.030192241,\n",
       " 0.015766196,\n",
       " -0.027853526,\n",
       " -0.0412662,\n",
       " -0.029447246,\n",
       " 0.020132754,\n",
       " -0.007844769,\n",
       " 0.021921111,\n",
       " 0.095357925,\n",
       " -0.025272798,\n",
       " 0.0028484694,\n",
       " -0.005789135,\n",
       " 0.027292604,\n",
       " -0.0075255153,\n",
       " 0.09282921,\n",
       " 0.0016803219,\n",
       " -0.10730432,\n",
       " -0.032663185,\n",
       " 0.0026056303,\n",
       " -0.004564735,\n",
       " 0.04176004,\n",
       " 0.036126938,\n",
       " -0.014114702,\n",
       " 0.0005495104,\n",
       " -0.06525436,\n",
       " 0.042475905,\n",
       " -0.09370769,\n",
       " -0.0059996475,\n",
       " 0.008300793,\n",
       " -0.021773152,\n",
       " -0.014055403,\n",
       " 0.0154582895,\n",
       " 0.047089443,\n",
       " 0.0067726914,\n",
       " 0.017104976,\n",
       " -0.019310374,\n",
       " 0.046998356,\n",
       " 0.044107717,\n",
       " -0.014878996,\n",
       " 0.00010870824,\n",
       " 0.010284328,\n",
       " -0.09900436,\n",
       " 0.02433878,\n",
       " -0.010856172,\n",
       " -0.05763812,\n",
       " 0.04148012,\n",
       " 0.0059282165,\n",
       " -0.02709494,\n",
       " 0.02677134,\n",
       " 0.028688323,\n",
       " -0.030085944,\n",
       " 0.029392324,\n",
       " 0.029723763,\n",
       " -0.04342407,\n",
       " -0.0031576515,\n",
       " -0.0016502319,\n",
       " -0.0148579255,\n",
       " 0.0022513343,\n",
       " 0.06266599,\n",
       " 0.011187661,\n",
       " -0.038094413,\n",
       " -0.0059242286,\n",
       " 0.062023696,\n",
       " -0.052893277,\n",
       " -0.021083828,\n",
       " 0.048720036,\n",
       " 0.050472394,\n",
       " -0.0070614684,\n",
       " 0.0062872493,\n",
       " 0.008244833,\n",
       " -0.017814435,\n",
       " -0.029006086,\n",
       " -0.040333424,\n",
       " -0.010157961,\n",
       " 0.041611053,\n",
       " -0.0048325425,\n",
       " 0.011848569,\n",
       " 0.03011469,\n",
       " 0.012597651,\n",
       " -0.030172782,\n",
       " 0.10004636,\n",
       " 0.044637,\n",
       " 0.016949719,\n",
       " 0.045051426,\n",
       " -0.037164886,\n",
       " 0.028090399,\n",
       " 0.010658765,\n",
       " -0.013877232,\n",
       " 0.002020709,\n",
       " -0.0059326757,\n",
       " 0.009988528,\n",
       " -0.0013895201,\n",
       " -0.027199617,\n",
       " -0.028078122,\n",
       " 0.01745384,\n",
       " -0.051426776,\n",
       " 0.07023213,\n",
       " -0.02452967,\n",
       " 0.02750113,\n",
       " 0.054011863,\n",
       " -0.021572873,\n",
       " -0.011417723,\n",
       " -0.014168554,\n",
       " 0.054957874,\n",
       " -0.052703932,\n",
       " -0.03023494,\n",
       " -0.023146091,\n",
       " 0.017002424,\n",
       " 0.020937908,\n",
       " -0.0750584,\n",
       " 0.04243719,\n",
       " -0.016791722,\n",
       " -0.03754701,\n",
       " -0.030624894,\n",
       " 0.00545094,\n",
       " -0.008582862,\n",
       " -0.027976563,\n",
       " 0.044630714,\n",
       " 0.00895791,\n",
       " 0.011619429,\n",
       " -0.011529272,\n",
       " -0.023528535,\n",
       " 0.05236315,\n",
       " -0.014201309,\n",
       " 0.04275499,\n",
       " 0.037889563,\n",
       " 0.0119520305,\n",
       " 0.052002978,\n",
       " -0.015580083,\n",
       " 0.016290152,\n",
       " -0.0012303058,\n",
       " -0.006806863,\n",
       " 0.05154167,\n",
       " 0.012387308,\n",
       " -0.063133545,\n",
       " -0.0044112164,\n",
       " -0.047597334,\n",
       " -0.004208894,\n",
       " -0.006571148,\n",
       " 0.10618325,\n",
       " 0.012109995,\n",
       " -0.078634106,\n",
       " -0.0138548305,\n",
       " -0.00077412545,\n",
       " -0.026773946,\n",
       " 0.010600122,\n",
       " 0.03819357,\n",
       " -0.052056964,\n",
       " -0.023314387,\n",
       " -0.0008863119,\n",
       " 0.004155385,\n",
       " -0.012014649,\n",
       " -0.022128478,\n",
       " 0.016968543,\n",
       " -0.017967496,\n",
       " -0.027163567,\n",
       " 0.015563422,\n",
       " -0.018738134,\n",
       " 0.0052169254,\n",
       " -0.03773716,\n",
       " -0.04141739,\n",
       " -0.024545852,\n",
       " -0.04324312,\n",
       " 0.0010822965,\n",
       " -0.063624024,\n",
       " -0.011266108,\n",
       " 0.05235763,\n",
       " -0.012218786,\n",
       " 0.016163377,\n",
       " 0.019830443,\n",
       " -0.077633746,\n",
       " 0.040832072,\n",
       " -0.0115605155,\n",
       " 0.002418116,\n",
       " 0.023941008,\n",
       " 0.008614876,\n",
       " -0.014897288,\n",
       " 0.0059422893,\n",
       " 0.015047113,\n",
       " 0.033513855,\n",
       " -0.011514346,\n",
       " -0.017595993,\n",
       " -0.0442172,\n",
       " -0.02479943,\n",
       " -0.0037040038,\n",
       " 0.006181486,\n",
       " -0.04428823,\n",
       " 0.017922498,\n",
       " 0.056739848,\n",
       " 0.014450089,\n",
       " 0.0025119535,\n",
       " 0.033734694,\n",
       " 0.03447853,\n",
       " -0.011352683,\n",
       " 0.003525933,\n",
       " -0.029496934,\n",
       " -0.05326987,\n",
       " 0.029152738,\n",
       " -0.038071502,\n",
       " 0.027526464,\n",
       " -0.0012892659,\n",
       " 0.010358392,\n",
       " 0.05930677,\n",
       " 0.032589924,\n",
       " 0.024305092,\n",
       " -0.03727263,\n",
       " -0.015042886,\n",
       " 0.035338476,\n",
       " 0.019527579,\n",
       " -0.053988397,\n",
       " -0.017473321,\n",
       " 0.011228333,\n",
       " -0.028844962,\n",
       " 0.059282098,\n",
       " 0.05842309,\n",
       " -0.00019214168,\n",
       " -0.0059321425,\n",
       " -0.062857315,\n",
       " -0.08178135,\n",
       " 0.032479927,\n",
       " -0.03360571,\n",
       " -0.00039067183,\n",
       " -0.054641284,\n",
       " -0.04293423,\n",
       " 0.04987773,\n",
       " -0.03760772,\n",
       " -0.005023604,\n",
       " 0.039605625,\n",
       " -0.04183304,\n",
       " 0.07694323,\n",
       " 0.029043954,\n",
       " 0.06894517,\n",
       " 0.011936334,\n",
       " -0.08078891,\n",
       " -0.0031728642,\n",
       " -0.021748317,\n",
       " 0.04282714,\n",
       " 0.1037472,\n",
       " -0.039710887,\n",
       " -0.06926191,\n",
       " 0.030624937,\n",
       " -0.030151129,\n",
       " 0.041701075,\n",
       " -0.025362642,\n",
       " -0.059709627,\n",
       " -0.07790661,\n",
       " 0.002233494,\n",
       " -0.051723592,\n",
       " 0.035107885,\n",
       " -0.01394272,\n",
       " -0.028965732,\n",
       " -0.00052030006,\n",
       " 0.0060199485,\n",
       " 0.0237675,\n",
       " -0.055251684,\n",
       " -0.015183813,\n",
       " -0.011470922,\n",
       " -0.0029285264,\n",
       " 0.032344215,\n",
       " 0.028683877,\n",
       " 0.03295878,\n",
       " 0.016037209]"
      ]
     },
     "execution_count": 100,
     "metadata": {},
     "output_type": "execute_result"
    }
   ],
   "source": [
    "result['embedding']\n",
    "# result.get('embedding')"
   ]
  },
  {
   "cell_type": "code",
   "execution_count": null,
   "id": "17654a0a-d22d-435f-865b-b9fcd8aed154",
   "metadata": {},
   "outputs": [],
   "source": []
  },
  {
   "cell_type": "code",
   "execution_count": null,
   "id": "35523528-aec1-45aa-ba00-b1683cc91553",
   "metadata": {},
   "outputs": [],
   "source": []
  },
  {
   "cell_type": "code",
   "execution_count": 101,
   "id": "d856e68b-3d52-4b8b-993c-4a74520ca172",
   "metadata": {},
   "outputs": [
    {
     "name": "stdout",
     "output_type": "stream",
     "text": [
      "[0.0040260437, 0.004124458, -0.014209415, -0.00183 ... TRIMMED ...\n",
      "[-0.004049845, -0.0075574904, -0.0073463684, -0.03 ... TRIMMED ...\n",
      "[0.025310587, -0.0080734305, -0.029902633, 0.01160 ... TRIMMED ...\n"
     ]
    }
   ],
   "source": [
    "result = genai.embed_content(\n",
    "    model=\"models/embedding-001\",\n",
    "    content=[\n",
    "      'What is the meaning of life?',\n",
    "      'How much wood would a woodchuck chuck?',\n",
    "      'How does the brain work?'],\n",
    "    task_type=\"retrieval_document\",\n",
    "    title=\"Embedding of list of strings\")\n",
    "\n",
    "# A list of inputs > A list of vectors output\n",
    "for v in result['embedding']:\n",
    "  print(str(v)[:50], '... TRIMMED ...')\n"
   ]
  },
  {
   "cell_type": "code",
   "execution_count": 102,
   "id": "0002ed42-2ea5-4ad9-aec4-9ca294f7d8b7",
   "metadata": {},
   "outputs": [
    {
     "data": {
      "text/plain": [
       "parts {\n",
       "  text: \"A computer is an electronic device that receives input, processes data, stores data, and outputs information. The input can come from a variety of sources, such as a keyboard, mouse, or microphone. The data is then processed by the computer\\'s central processing unit (CPU), which performs calculations and logical operations. The results of the processing are stored in the computer\\'s memory, and can be retrieved and displayed on a screen or printed on paper.\\n\\nHere\\'s a simplified analogy: Imagine a computer as a chef in a kitchen. The input is the ingredients, the CPU is the chef, the memory is the pantry, and the output is the cooked meal. The chef (CPU) follows a recipe (program) to combine the ingredients (data) in the pantry (memory) to create a dish (output).\\n\\nComputers are used in a wide variety of applications, including word processing, spreadsheets, presentations, games, graphic design, music production, video editing, and web browsing. They are also used to control industrial machinery, medical equipment, and transportation systems.\"\n",
       "}\n",
       "role: \"model\""
      ]
     },
     "execution_count": 102,
     "metadata": {},
     "output_type": "execute_result"
    }
   ],
   "source": [
    "response.candidates[0].content"
   ]
  },
  {
   "cell_type": "code",
   "execution_count": 103,
   "id": "44799876-f968-4c68-ae0c-3c22237aaba0",
   "metadata": {},
   "outputs": [
    {
     "name": "stdout",
     "output_type": "stream",
     "text": [
      "[-0.008884882, -0.039092645, 0.015406522, 0.031088 ... TRIMMED ...\n"
     ]
    }
   ],
   "source": [
    "result = genai.embed_content(\n",
    "    model = 'models/embedding-001',\n",
    "    content = response.candidates[0].content)\n",
    "\n",
    "# 1 input > 1 vector output\n",
    "print(str(result['embedding'])[:50], '... TRIMMED ...')\n"
   ]
  },
  {
   "cell_type": "code",
   "execution_count": null,
   "id": "b121bc73-ba51-4b38-bf83-3303c1212c12",
   "metadata": {},
   "outputs": [],
   "source": []
  },
  {
   "cell_type": "code",
   "execution_count": 105,
   "id": "757423b4-1e83-40d1-9ef8-b85b26f531e8",
   "metadata": {},
   "outputs": [
    {
     "data": {
      "text/plain": [
       "[parts {\n",
       "   text: \"In one sentence, explain how a computer works to a young child.\"\n",
       " }\n",
       " role: \"user\",\n",
       " parts {\n",
       "   text: \"A computer uses electricity to do math really fast and show us the answers on a screen.\"\n",
       " }\n",
       " role: \"model\",\n",
       " parts {\n",
       "   text: \"Okay, how about a more detailed explanation to a high schooler?\"\n",
       " }\n",
       " role: \"user\",\n",
       " parts {\n",
       "   text: \"A computer is an electronic device that receives input, processes data, stores data, and outputs information. The input can come from a variety of sources, such as a keyboard, mouse, or microphone. The data is then processed by the computer\\'s central processing unit (CPU), which performs calculations and logical operations. The results of the processing are stored in the computer\\'s memory, and can be retrieved and displayed on a screen or printed on paper.\\n\\nHere\\'s a simplified analogy: Imagine a computer as a chef in a kitchen. The input is the ingredients, the CPU is the chef, the memory is the pantry, and the output is the cooked meal. The chef (CPU) follows a recipe (program) to combine the ingredients (data) in the pantry (memory) to create a dish (output).\\n\\nComputers are used in a wide variety of applications, including word processing, spreadsheets, presentations, games, graphic design, music production, video editing, and web browsing. They are also used to control industrial machinery, medical equipment, and transportation systems.\"\n",
       " }\n",
       " role: \"model\"]"
      ]
     },
     "execution_count": 105,
     "metadata": {},
     "output_type": "execute_result"
    }
   ],
   "source": [
    "chat.history"
   ]
  },
  {
   "cell_type": "code",
   "execution_count": null,
   "id": "98c4dddb-15f3-4937-a8c9-d8385eace091",
   "metadata": {},
   "outputs": [],
   "source": []
  },
  {
   "cell_type": "code",
   "execution_count": 106,
   "id": "0bf5e877-4c75-4aea-9e04-b2eef257c472",
   "metadata": {},
   "outputs": [
    {
     "name": "stdout",
     "output_type": "stream",
     "text": [
      "[-0.014632266, -0.042202696, -0.015757175, 0.01548 ... TRIMMED...\n",
      "[-0.04727741, -0.0303997, 0.01194012, 0.021566141, ... TRIMMED...\n",
      "[-0.010055617, -0.07208932, -0.00011750793, -0.023 ... TRIMMED...\n",
      "[-0.008884882, -0.039092645, 0.015406522, 0.031088 ... TRIMMED...\n"
     ]
    }
   ],
   "source": [
    "result = genai.embed_content(\n",
    "    model = 'models/embedding-001',\n",
    "    content = chat.history)\n",
    "\n",
    "# 1 input > 1 vector output\n",
    "for i,v in enumerate(result['embedding']):\n",
    "  print(str(v)[:50], '... TRIMMED...')\n"
   ]
  },
  {
   "cell_type": "code",
   "execution_count": 112,
   "id": "8dc721c1-ecf3-41bb-beec-04ce01e8a353",
   "metadata": {},
   "outputs": [
    {
     "data": {
      "text/plain": [
       "768"
      ]
     },
     "execution_count": 112,
     "metadata": {},
     "output_type": "execute_result"
    }
   ],
   "source": [
    "len(result['embedding'][-1])"
   ]
  },
  {
   "cell_type": "code",
   "execution_count": 113,
   "id": "b91073b6-e12d-4756-a7e3-73ab123c36f8",
   "metadata": {},
   "outputs": [
    {
     "data": {
      "text/plain": [
       "768"
      ]
     },
     "execution_count": 113,
     "metadata": {},
     "output_type": "execute_result"
    }
   ],
   "source": [
    "len(result['embedding'][-0])"
   ]
  },
  {
   "cell_type": "code",
   "execution_count": null,
   "id": "60b066db-9012-46d6-9700-ef6d2b041eff",
   "metadata": {},
   "outputs": [],
   "source": []
  },
  {
   "cell_type": "markdown",
   "id": "a0dcd46b-bc57-4af5-a257-08bb5574312a",
   "metadata": {},
   "source": [
    "Advanced use cases"
   ]
  },
  {
   "cell_type": "code",
   "execution_count": 114,
   "id": "25cd7d07-44c4-44a4-9f58-8e9da2af3383",
   "metadata": {},
   "outputs": [
    {
     "data": {
      "text/plain": [
       "[index: 0\n",
       "content {\n",
       "  parts {\n",
       "    text: \"I am sorry, I am not supposed to generate responses that are sexually suggestive in nature. Would you like me to try generating something different?\"\n",
       "  }\n",
       "  role: \"model\"\n",
       "}\n",
       "finish_reason: SAFETY\n",
       "safety_ratings {\n",
       "  category: HARM_CATEGORY_SEXUALLY_EXPLICIT\n",
       "  probability: HIGH\n",
       "}\n",
       "safety_ratings {\n",
       "  category: HARM_CATEGORY_HATE_SPEECH\n",
       "  probability: NEGLIGIBLE\n",
       "}\n",
       "safety_ratings {\n",
       "  category: HARM_CATEGORY_HARASSMENT\n",
       "  probability: NEGLIGIBLE\n",
       "}\n",
       "safety_ratings {\n",
       "  category: HARM_CATEGORY_DANGEROUS_CONTENT\n",
       "  probability: NEGLIGIBLE\n",
       "}\n",
       "]"
      ]
     },
     "execution_count": 114,
     "metadata": {},
     "output_type": "execute_result"
    }
   ],
   "source": [
    "response = model.generate_content('[Questionable prompt here]')\n",
    "response.candidates"
   ]
  },
  {
   "cell_type": "code",
   "execution_count": 115,
   "id": "996adb15-2fcd-41e6-92b4-8602455a4a21",
   "metadata": {},
   "outputs": [
    {
     "data": {
      "text/plain": [
       "safety_ratings {\n",
       "  category: HARM_CATEGORY_SEXUALLY_EXPLICIT\n",
       "  probability: NEGLIGIBLE\n",
       "}\n",
       "safety_ratings {\n",
       "  category: HARM_CATEGORY_HATE_SPEECH\n",
       "  probability: NEGLIGIBLE\n",
       "}\n",
       "safety_ratings {\n",
       "  category: HARM_CATEGORY_HARASSMENT\n",
       "  probability: NEGLIGIBLE\n",
       "}\n",
       "safety_ratings {\n",
       "  category: HARM_CATEGORY_DANGEROUS_CONTENT\n",
       "  probability: NEGLIGIBLE\n",
       "}"
      ]
     },
     "execution_count": 115,
     "metadata": {},
     "output_type": "execute_result"
    }
   ],
   "source": [
    "response.prompt_feedback\n"
   ]
  },
  {
   "cell_type": "code",
   "execution_count": 116,
   "id": "ad991cfd-f9ec-42fb-a08f-9f98cb1daa4d",
   "metadata": {},
   "outputs": [
    {
     "data": {
      "text/plain": [
       "\"I'm sorry, I don't understand your question. Can you please rephrase it?\""
      ]
     },
     "execution_count": 116,
     "metadata": {},
     "output_type": "execute_result"
    }
   ],
   "source": [
    "response = model.generate_content('[Questionable prompt here]',\n",
    "                                  safety_settings={'HARASSMENT':'block_none'})\n",
    "response.text"
   ]
  },
  {
   "cell_type": "code",
   "execution_count": null,
   "id": "2cae9b2a-e6c2-4876-8d9d-e7853b99d5f0",
   "metadata": {},
   "outputs": [],
   "source": []
  },
  {
   "cell_type": "code",
   "execution_count": null,
   "id": "57cde2ed-2df3-45e6-bccd-3048492143d8",
   "metadata": {},
   "outputs": [],
   "source": []
  },
  {
   "cell_type": "code",
   "execution_count": 121,
   "id": "c8500fb5-29b5-4d29-b004-ac6cba3652e2",
   "metadata": {},
   "outputs": [
    {
     "name": "stdout",
     "output_type": "stream",
     "text": [
      "[1 3 6 0 9 2 4 8 7 5]\n"
     ]
    }
   ],
   "source": [
    "#argsort usecase\n",
    "import numpy as np\n",
    "\n",
    "arr = np.array([3, 1, 4, 1, 5, 9, 2, 6, 5, 3])\n",
    "\n",
    "# Get the indices that would sort the array\n",
    "sorted_indices = np.argsort(arr)\n",
    "\n",
    "print(sorted_indices)\n"
   ]
  },
  {
   "cell_type": "code",
   "execution_count": null,
   "id": "91cc4b85-055d-4cc0-ba21-1f8052d1f3d1",
   "metadata": {},
   "outputs": [],
   "source": []
  },
  {
   "cell_type": "code",
   "execution_count": null,
   "id": "c716846c-6d31-40c9-b54c-4b996fd348ec",
   "metadata": {},
   "outputs": [],
   "source": []
  },
  {
   "cell_type": "code",
   "execution_count": null,
   "id": "f26c7ffa-72ba-4b1e-a712-465da0e3a4cf",
   "metadata": {},
   "outputs": [],
   "source": []
  },
  {
   "cell_type": "code",
   "execution_count": 117,
   "id": "1a242141-1441-40a3-9523-33a89ac33a99",
   "metadata": {},
   "outputs": [],
   "source": [
    "import google.ai.generativelanguage as glm"
   ]
  },
  {
   "cell_type": "code",
   "execution_count": 118,
   "id": "134820cd-5468-4de5-a3e1-af24c9c9691c",
   "metadata": {},
   "outputs": [
    {
     "data": {
      "text/plain": [
       "'C:\\\\Users\\\\hp\\\\OneDrive\\\\Pictures\\\\Screenshots\\\\asura.jpg'"
      ]
     },
     "execution_count": 118,
     "metadata": {},
     "output_type": "execute_result"
    }
   ],
   "source": [
    "r'C:\\Users\\hp\\OneDrive\\Pictures\\Screenshots\\asura.jpg'"
   ]
  },
  {
   "cell_type": "code",
   "execution_count": 119,
   "id": "20a4fc32-85ac-4790-bb89-7d8ea207a1d4",
   "metadata": {},
   "outputs": [],
   "source": [
    "model = genai.GenerativeModel('gemini-pro-vision')\n",
    "response = model.generate_content(\n",
    "    glm.Content(\n",
    "        parts = [\n",
    "            glm.Part(text=\"Write a short, engaging blog post based on this picture.\"),\n",
    "            glm.Part(\n",
    "                inline_data=glm.Blob(\n",
    "                    mime_type='image/jpeg',\n",
    "                    data=pathlib.Path(r'C:\\Users\\hp\\OneDrive\\Pictures\\Screenshots\\asura.jpg').read_bytes()\n",
    "                )\n",
    "            ),\n",
    "        ],\n",
    "    ),\n",
    "    stream=True)\n"
   ]
  },
  {
   "cell_type": "code",
   "execution_count": 120,
   "id": "b577eae1-9f62-404f-9bbd-3065808e9eb0",
   "metadata": {},
   "outputs": [
    {
     "data": {
      "text/markdown": [
       ">  **The Barong: A Balinese Spirit Mask**\n",
       "> \n",
       "> The Barong is a benevolent spirit mask used in Balinese dance-dramas. It is typically made of wood and painted with bright colors. The Barong has a long, snout-like mouth and a pair of tusks. It is often worn by a dancer who performs a series of acrobatic movements.\n",
       "> \n",
       "> The Barong is said to represent the power of good, and it is often used to ward off evil spirits. It is also a popular tourist attraction, and many visitors to Bali enjoy taking pictures with the Barong.\n",
       "> \n",
       "> If you're ever in Bali, be sure to check out a Barong performance. It's a truly unique and unforgettable experience."
      ],
      "text/plain": [
       "<IPython.core.display.Markdown object>"
      ]
     },
     "execution_count": 120,
     "metadata": {},
     "output_type": "execute_result"
    }
   ],
   "source": [
    "response.resolve()\n",
    "\n",
    "# to_markdown(response.text[:100] + \"... [TRIMMED] ...\")\n",
    "to_markdown(response.text)"
   ]
  },
  {
   "cell_type": "code",
   "execution_count": null,
   "id": "550368b9-c2ec-4149-8d10-263cdc0ae837",
   "metadata": {},
   "outputs": [],
   "source": []
  },
  {
   "cell_type": "markdown",
   "id": "0a9ccd39-9ed5-4844-bb6d-f47d1645ab76",
   "metadata": {},
   "source": [
    "# multi turn chat"
   ]
  },
  {
   "cell_type": "code",
   "execution_count": 101,
   "id": "44d0b106-5ecf-462d-a858-f87e44160238",
   "metadata": {},
   "outputs": [
    {
     "data": {
      "text/markdown": [
       "> 1. **Input:** You use a keyboard, mouse, or touch screen to tell the computer what to do.\n",
       "> 2. **Processing:** The computer's brain, called the CPU, figures out what you want it to do.\n",
       "> 3. **Memory:** The computer stores information in its memory, like a big notebook.\n",
       "> 4. **Output:** The computer shows you what it's done on a screen or printer."
      ],
      "text/plain": [
       "<IPython.core.display.Markdown object>"
      ]
     },
     "execution_count": 101,
     "metadata": {},
     "output_type": "execute_result"
    }
   ],
   "source": [
    "model = genai.GenerativeModel('gemini-pro')\n",
    "\n",
    "messages = [\n",
    "    {'role':'user',\n",
    "     'parts': [\"Briefly explain how a computer works to a young child.\"]}\n",
    "]\n",
    "response = model.generate_content(messages)\n",
    "\n",
    "to_markdown(response.text)\n"
   ]
  },
  {
   "cell_type": "code",
   "execution_count": 102,
   "id": "de96e5b4-e8c2-4c5d-b16f-d6ca6697a6b3",
   "metadata": {},
   "outputs": [
    {
     "data": {
      "text/markdown": [
       "> 1. **Input:** When you type on a keyboard, click a mouse, or tap a touchscreen, you are sending input to the computer. Input devices translate these actions into electrical signals that the computer can understand.\n",
       "> 2. **Processing:** The computer's central processing unit (CPU) is responsible for processing input and performing calculations. The CPU is made up of billions of tiny transistors that can switch on and off very quickly. These transistors are used to perform logical operations, such as addition, subtraction, multiplication, and division.\n",
       "> 3. **Memory:** The computer's memory stores data and instructions that are being processed by the CPU. Memory is divided into two main types: RAM (random access memory) and ROM (read-only memory). RAM is used to store data and instructions that are currently being processed, while ROM stores permanent data and instructions, such as the computer's operating system.\n",
       "> 4. **Output:** Output devices, such as monitors, printers, and speakers, display or print the results of the computer's processing. Output devices convert electrical signals from the computer into human-readable or audible form.\n",
       "> 5. **Storage:** The computer's storage devices, such as hard disk drives and solid-state drives, store data and instructions that are not currently being processed. Storage devices are much larger than memory, and they can store data permanently.\n",
       "> \n",
       "> In addition to these five main components, computers also have a number of other important parts, such as a motherboard, power supply, and cooling system. These parts work together to ensure that the computer operates properly.\n",
       "> \n",
       "> Here is a simple analogy to help explain how a computer works:\n",
       "> \n",
       "> * **Input:** Imagine a chef taking orders from customers in a restaurant.\n",
       "> * **Processing:** The chef cooks the food according to the orders.\n",
       "> * **Memory:** The chef keeps track of the orders and the status of each dish.\n",
       "> * **Output:** The chef serves the food to the customers.\n",
       "> * **Storage:** The chef stores the ingredients and cooking utensils in a pantry.\n",
       "> \n",
       "> In this analogy, the input is the customer orders, the processing is the cooking, the memory is the chef's brain and the order tickets, the output is the food, and the storage is the pantry."
      ],
      "text/plain": [
       "<IPython.core.display.Markdown object>"
      ]
     },
     "execution_count": 102,
     "metadata": {},
     "output_type": "execute_result"
    }
   ],
   "source": [
    "messages.append({'role':'model',\n",
    "                 'parts':[response.text]})\n",
    "\n",
    "messages.append({'role':'user',\n",
    "                 'parts':[\"Okay, how about a more detailed explanation to a high school student?\"]})\n",
    "\n",
    "response = model.generate_content(messages)\n",
    "\n",
    "to_markdown(response.text)\n"
   ]
  },
  {
   "cell_type": "code",
   "execution_count": null,
   "id": "77d921df-4c54-4c0c-89f7-a4032e25eca6",
   "metadata": {},
   "outputs": [],
   "source": []
  },
  {
   "cell_type": "code",
   "execution_count": null,
   "id": "4b97206b-f454-46e4-9be7-231f54f96530",
   "metadata": {},
   "outputs": [],
   "source": []
  },
  {
   "cell_type": "code",
   "execution_count": 105,
   "id": "8880ab55-562d-4c54-84bd-b38e24d89c8e",
   "metadata": {},
   "outputs": [],
   "source": [
    "response = model.generate_content(\n",
    "    'Tell me a story about a magic backpack.',\n",
    "    generation_config=genai.types.GenerationConfig(\n",
    "        # Only one candidate for now.\n",
    "        candidate_count=1,\n",
    "        stop_sequences=['x'],\n",
    "        max_output_tokens=200,\n",
    "        temperature=1.0)\n",
    ")\n"
   ]
  },
  {
   "cell_type": "code",
   "execution_count": 106,
   "id": "6a43e7e2-5cc1-463a-a002-d55c13092feb",
   "metadata": {},
   "outputs": [
    {
     "data": {
      "text/markdown": [
       "> Once upon a time, there was a little girl named Lily who was about to begin the first grade. Her parents took her shopping for school supplies and new clothes. Lily was e"
      ],
      "text/plain": [
       "<IPython.core.display.Markdown object>"
      ]
     },
     "execution_count": 106,
     "metadata": {},
     "output_type": "execute_result"
    }
   ],
   "source": [
    "to_markdown(response.text)"
   ]
  },
  {
   "cell_type": "code",
   "execution_count": null,
   "id": "e0ceda17-0f46-44c8-bd5b-9ea98c19765b",
   "metadata": {},
   "outputs": [],
   "source": []
  }
 ],
 "metadata": {
  "kernelspec": {
   "display_name": "Python 3 (ipykernel)",
   "language": "python",
   "name": "python3"
  },
  "language_info": {
   "codemirror_mode": {
    "name": "ipython",
    "version": 3
   },
   "file_extension": ".py",
   "mimetype": "text/x-python",
   "name": "python",
   "nbconvert_exporter": "python",
   "pygments_lexer": "ipython3",
   "version": "3.11.6"
  }
 },
 "nbformat": 4,
 "nbformat_minor": 5
}
